{
  "nbformat": 4,
  "nbformat_minor": 0,
  "metadata": {
    "colab": {
      "provenance": []
    },
    "kernelspec": {
      "name": "python3",
      "display_name": "Python 3"
    },
    "language_info": {
      "name": "python"
    }
  },
  "cells": [
    {
      "cell_type": "markdown",
      "source": [
        "inisialisasi ke database"
      ],
      "metadata": {
        "id": "Cv_bSrU4RWyI"
      }
    },
    {
      "cell_type": "code",
      "execution_count": 1,
      "metadata": {
        "colab": {
          "base_uri": "https://localhost:8080/"
        },
        "id": "QZ6nGNarRILL",
        "outputId": "31e4fe98-67ac-4bfa-dfef-82fb015d8ff0"
      },
      "outputs": [
        {
          "output_type": "execute_result",
          "data": {
            "text/plain": [
              "<firebase_admin.App at 0x7d97331361a0>"
            ]
          },
          "metadata": {},
          "execution_count": 1
        }
      ],
      "source": [
        "import firebase_admin\n",
        "from firebase_admin import credentials\n",
        "\n",
        "cred = credentials.Certificate(\"/content/latihanujikom-85ee2-firebase-adminsdk-400lb-7d5f95374f.json\")\n",
        "firebase_admin.initialize_app(cred)"
      ]
    },
    {
      "cell_type": "markdown",
      "source": [
        "mengambil collection dan document di dalamnya"
      ],
      "metadata": {
        "id": "k2zlUIuHSmWJ"
      }
    },
    {
      "cell_type": "code",
      "source": [
        "from firebase_admin import firestore\n",
        "\n",
        "db = firestore.client() #inisialisasi db sebagai database\n",
        "\n",
        "# data_db = db.collection('ujikom') # mengambil collecction data\n",
        "# ujikom_ref = db.collection('ujikom')\n",
        "\n",
        "# data_doc = data_db.document('data5') # ngambil id doc nya\n",
        "\n",
        "barang_ref = db.collection('barang')  # Collection untuk data barang\n",
        "transaksi_ref = db.collection('transaksi')  # Collection untuk data transaksi\n",
        "\n",
        "barang = barang_ref.document('test') # ngambil id doc nya\n",
        "transaksi = transaksi_ref.document('test')\n",
        "\n",
        "def testConnecttion(barang,transaksi):\n",
        "\n",
        "  barang.set(\n",
        "      {\n",
        "          'test':'hello dek'\n",
        "      }\n",
        "  )\n",
        "\n",
        "  transaksi.set(\n",
        "      {\n",
        "          'test':'hello dek'\n",
        "      }\n",
        "  )\n",
        "\n",
        "  print(barang.get().to_dict()) #unit test connection database\n",
        "  print(transaksi.get().to_dict()) #unit test connection database\n",
        "\n",
        "testConnecttion(barang,transaksi)"
      ],
      "metadata": {
        "colab": {
          "base_uri": "https://localhost:8080/"
        },
        "id": "u7tG85xZRyoH",
        "outputId": "66ff7e9d-e983-406d-a1ac-57b9935883ec"
      },
      "execution_count": 2,
      "outputs": [
        {
          "output_type": "stream",
          "name": "stdout",
          "text": [
            "{'test': 'hello dek'}\n",
            "{'test': 'hello dek'}\n"
          ]
        }
      ]
    },
    {
      "cell_type": "markdown",
      "source": [
        "reset database data.data5 jadi kosong"
      ],
      "metadata": {
        "id": "ytoBeF6_TnlF"
      }
    },
    {
      "cell_type": "code",
      "source": [
        "#function ini untuk menghapus data yang dihasilkan dari uji connection\n",
        "def resetDatabase(barang,transaksi):\n",
        "  barang.delete()\n",
        "  print(barang.get().to_dict())\n",
        "  print(\"database sudah kosong\")\n",
        "\n",
        "  transaksi.delete()\n",
        "  print(transaksi.get().to_dict())\n",
        "  print(\"database sudah kosong\")\n",
        "\n",
        "resetDatabase(barang,transaksi)"
      ],
      "metadata": {
        "id": "gz66YSpnTXO0",
        "colab": {
          "base_uri": "https://localhost:8080/"
        },
        "outputId": "2fe6f134-3a75-460e-b2cd-3244af99c15e"
      },
      "execution_count": 3,
      "outputs": [
        {
          "output_type": "stream",
          "name": "stdout",
          "text": [
            "None\n",
            "database sudah kosong\n",
            "None\n",
            "database sudah kosong\n"
          ]
        }
      ]
    },
    {
      "cell_type": "markdown",
      "source": [
        "Data process"
      ],
      "metadata": {
        "id": "XVxIypIYZM-W"
      }
    },
    {
      "cell_type": "code",
      "source": [
        "\n",
        "import pandas as pd\n",
        "\n",
        "# 4. Fungsi untuk Menambahkan Data Barang\n",
        "def tambah_barang(nama, ukuran, harga, stok):\n",
        "  data_barang = {\n",
        "      'nama': nama,\n",
        "      'ukuran': ukuran,\n",
        "      'harga': harga,\n",
        "      'stok': stok\n",
        "  }\n",
        "  barang_ref.document(nama).set(data_barang)  # Menyimpan di collection 'barang'\n",
        "  print(\"Data barang berhasil ditambahkan!\")\n",
        "\n",
        "# 5. Fungsi untuk Menambahkan Data Transaksi\n",
        "def tambah_transaksi(nama_pelanggan, tanggal, nama_beras, ukuran, jumlah, keterangan=\"\"):\n",
        "    doc_ref = barang_ref.document(nama_beras)  # Mengambil data barang dari collection 'barang'\n",
        "    doc = doc_ref.get()\n",
        "\n",
        "    if doc.exists:\n",
        "        data_barang = doc.to_dict()\n",
        "        if data_barang['stok'] >= jumlah:\n",
        "            data_barang['stok'] -= jumlah\n",
        "            doc_ref.set(data_barang)  # Memperbarui stok di collection 'barang'\n",
        "\n",
        "            # Menghitung total harga dengan pajak\n",
        "            harga_beras = data_barang['harga']\n",
        "            total_harga = harga_beras * jumlah\n",
        "            pajak = 0.11 * total_harga\n",
        "            total_harga_pajak = total_harga + pajak\n",
        "\n",
        "            data_transaksi = {\n",
        "                'nama_pelanggan': nama_pelanggan,\n",
        "                'tanggal': tanggal,\n",
        "                'nama_beras': nama_beras,\n",
        "                'ukuran': ukuran,\n",
        "                'jumlah': jumlah,\n",
        "                'keterangan': keterangan,\n",
        "                'total_harga': total_harga_pajak,\n",
        "                'keterangan_pajak': f\"(+ Pajak 11% = Rp {pajak:.2f})\"\n",
        "            }\n",
        "            transaksi_ref.add(data_transaksi)  # Menyimpan di collection 'transaksi'\n",
        "            print(\"Transaksi berhasil!\")\n",
        "        else:\n",
        "            print(\"Stok tidak mencukupi!\")\n",
        "    else:\n",
        "        print(\"Barang tidak ditemukan!\")\n",
        "\n",
        "# 6. Fungsi untuk Menampilkan Daftar Barang\n",
        "def tampilkan_barang():\n",
        "  docs = barang_ref.stream()  # Mengambil data dari collection 'barang'\n",
        "  data_barang = []\n",
        "  for doc in docs:\n",
        "    data_barang.append(doc.to_dict())\n",
        "  df = pd.DataFrame(data_barang)\n",
        "  print(df.to_markdown(index=False, numalign='left', stralign='left'))\n",
        "\n",
        "# 7. Fungsi untuk Menampilkan Daftar Transaksi\n",
        "def tampilkan_transaksi():\n",
        "    docs = transaksi_ref.stream()\n",
        "    data_transaksi = []\n",
        "    for doc in docs:\n",
        "        data_transaksi.append(doc.to_dict())\n",
        "    df = pd.DataFrame(data_transaksi)\n",
        "\n",
        "    # Pastikan kolom 'total_harga' dan 'keterangan_pajak' ada sebelum menampilkan\n",
        "    if 'total_harga' not in df.columns or 'keterangan_pajak' not in df.columns:\n",
        "        print(\"Data transaksi belum lengkap.\")\n",
        "        return\n",
        "\n",
        "    print(df[['nama_pelanggan', 'tanggal', 'nama_beras', 'ukuran', 'jumlah', 'keterangan', 'total_harga', 'keterangan_pajak']].to_markdown(index=False, numalign='left', stralign='left'))\n",
        "\n",
        "# 8. Fungsi untuk Mencari Barang dan Transaksi\n",
        "def cari_barang_dan_transaksi(kata_kunci):\n",
        "  # Cari barang yang mengandung kata kunci (case-insensitive)\n",
        "  query_barang = barang_ref.where(\"nama\", \">=\", kata_kunci.lower()).where(\"nama\", \"<=\", kata_kunci.upper() + \"\\uf8ff\")\n",
        "  docs_barang = query_barang.stream()\n",
        "  data_barang = []\n",
        "  for doc in docs_barang:\n",
        "    data_barang.append(doc.to_dict())\n",
        "\n",
        "  # Cari transaksi yang mengandung kata kunci (case-insensitive)\n",
        "  query_transaksi = transaksi_ref.where(\"nama_beras\", \">=\", kata_kunci.lower()).where(\"nama_beras\", \"<=\", kata_kunci.upper() + \"\\uf8ff\")\n",
        "  docs_transaksi = query_transaksi.stream()\n",
        "  data_transaksi = []\n",
        "  for doc in docs_transaksi:\n",
        "    data_transaksi.append(doc.to_dict())\n",
        "\n",
        "  # Tampilkan hasil pencarian dalam bentuk tabel\n",
        "  if data_barang:\n",
        "    df_barang = pd.DataFrame(data_barang)\n",
        "    print(\"\\n--- Hasil Pencarian Barang ---\")\n",
        "    print(df_barang.to_markdown(index=False, numalign='left', stralign='left'))\n",
        "  else:\n",
        "    print(\"Tidak ada barang yang ditemukan.\")\n",
        "\n",
        "  if data_transaksi:\n",
        "    df_transaksi = pd.DataFrame(data_transaksi)\n",
        "    print(\"\\n--- Hasil Pencarian Transaksi ---\")\n",
        "    print(df_transaksi.to_markdown(index=False, numalign='left', stralign='left'))\n",
        "  else:\n",
        "    print(\"Tidak ada transaksi yang ditemukan.\")\n"
      ],
      "metadata": {
        "id": "dBo1epC3lPSH"
      },
      "execution_count": 4,
      "outputs": []
    },
    {
      "cell_type": "markdown",
      "source": [
        "Main program\n"
      ],
      "metadata": {
        "id": "cUOtB8XUo5k0"
      }
    },
    {
      "cell_type": "code",
      "source": [
        "5# 8. Main Program\n",
        "def main():\n",
        "  while True:\n",
        "    print(\"\\n--- Menu ---\")\n",
        "    print(\"1. Tambah data barang\")\n",
        "    print(\"2. Tambah data transaksi\")\n",
        "    print(\"3. Tampilkan data barang\")\n",
        "    print(\"4. Tampilkan data transaksi\")\n",
        "    print(\"5. Cari barang dan transaksi\") # Menambahkan pilihan baru\n",
        "    print(\"6. Keluar\") # Mengubah pilihan keluar menjadi 6\n",
        "\n",
        "    pilihan = input(\"Masukkan pilihan: \")\n",
        "\n",
        "    if pilihan == '1':\n",
        "      nama = input(\"Nama beras: \")\n",
        "      ukuran = input(\"Ukuran (kg): \")\n",
        "      harga = int(input(\"Harga: \"))\n",
        "      stok = int(input(\"Stok: \"))\n",
        "      tambah_barang(nama, ukuran, harga, stok)\n",
        "    elif pilihan == '2':\n",
        "      nama_pelanggan = input(\"Nama pelanggan: \")\n",
        "      tanggal = input(\"Tanggal (YYYY-MM-DD): \")\n",
        "      nama_beras = input(\"Nama beras: \")\n",
        "      ukuran = input(\"Ukuran (kg): \")\n",
        "      jumlah = int(input(\"Jumlah: \"))\n",
        "      tambah_transaksi(nama_pelanggan, tanggal, nama_beras, ukuran, jumlah)\n",
        "    elif pilihan == '3':\n",
        "      tampilkan_barang()\n",
        "    elif pilihan == '4':\n",
        "      tampilkan_transaksi()\n",
        "    elif pilihan == '5': # Pilihan untuk fitur pencarian\n",
        "      kata_kunci = input(\"Masukkan kata kunci: \")\n",
        "      cari_barang_dan_transaksi(kata_kunci)\n",
        "    elif pilihan == '6':  # Pilihan untuk keluar\n",
        "      break\n",
        "    else:\n",
        "      print(\"Pilihan tidak valid!\")\n"
      ],
      "metadata": {
        "id": "0bzVsfr3oyDk"
      },
      "execution_count": 5,
      "outputs": []
    },
    {
      "cell_type": "markdown",
      "source": [
        "RUN BAGIAN INI TERAKHIR SETELAH RUN BAGIAN BAGIAN LAIN\n",
        "\n",
        "\n",
        "\n",
        "FUNGSI INI BISA DIJALANKAN BERULANG ULANG DALAM SARAT MASIH 1 RUNTIME"
      ],
      "metadata": {
        "id": "6UoRdxkrDKgj"
      }
    },
    {
      "cell_type": "code",
      "source": [
        "main()"
      ],
      "metadata": {
        "colab": {
          "base_uri": "https://localhost:8080/"
        },
        "id": "nVo6G1DNCAVe",
        "outputId": "c518714b-3d6e-4ac1-fb7e-5af2fed5ccc9"
      },
      "execution_count": 6,
      "outputs": [
        {
          "name": "stdout",
          "output_type": "stream",
          "text": [
            "\n",
            "--- Menu ---\n",
            "1. Tambah data barang\n",
            "2. Tambah data transaksi\n",
            "3. Tampilkan data barang\n",
            "4. Tampilkan data transaksi\n",
            "5. Cari barang dan transaksi\n",
            "6. Keluar\n",
            "Masukkan pilihan: 5\n",
            "Masukkan kata kunci: Zaytun\n"
          ]
        },
        {
          "output_type": "stream",
          "name": "stderr",
          "text": [
            "/usr/local/lib/python3.10/dist-packages/google/cloud/firestore_v1/base_collection.py:290: UserWarning: Detected filter using positional arguments. Prefer using the 'filter' keyword argument instead.\n",
            "  return query.where(field_path, op_string, value)\n",
            "<ipython-input-4-2b8403925ad5>:75: UserWarning: Detected filter using positional arguments. Prefer using the 'filter' keyword argument instead.\n",
            "  query_barang = barang_ref.where(\"nama\", \">=\", kata_kunci.lower()).where(\"nama\", \"<=\", kata_kunci.upper() + \"\\uf8ff\")\n",
            "<ipython-input-4-2b8403925ad5>:82: UserWarning: Detected filter using positional arguments. Prefer using the 'filter' keyword argument instead.\n",
            "  query_transaksi = transaksi_ref.where(\"nama_beras\", \">=\", kata_kunci.lower()).where(\"nama_beras\", \"<=\", kata_kunci.upper() + \"\\uf8ff\")\n"
          ]
        },
        {
          "name": "stdout",
          "output_type": "stream",
          "text": [
            "Tidak ada barang yang ditemukan.\n",
            "Tidak ada transaksi yang ditemukan.\n",
            "\n",
            "--- Menu ---\n",
            "1. Tambah data barang\n",
            "2. Tambah data transaksi\n",
            "3. Tampilkan data barang\n",
            "4. Tampilkan data transaksi\n",
            "5. Cari barang dan transaksi\n",
            "6. Keluar\n",
            "Masukkan pilihan: 3\n",
            "| stok   | nama                  | ukuran   | harga   |\n",
            "|:-------|:----------------------|:---------|:--------|\n",
            "| 89     | BMW Setra Ramos       | 5        | 68000   |\n",
            "| 32     | Bunga Ramos Setra     | 10       | 120000  |\n",
            "| 99     | Maknyuss Premium      | 25       | 338000  |\n",
            "| 37     | Pandan Zaytun         | 5        | 90000   |\n",
            "| 6      | Puregreen Beras Merah | 2        | 45000   |\n",
            "| 7      | Rojolele Super        | 25       | 300000  |\n",
            "| 118    | Topi Koki Setra Ramos | 5        | 73000   |\n",
            "\n",
            "--- Menu ---\n",
            "1. Tambah data barang\n",
            "2. Tambah data transaksi\n",
            "3. Tampilkan data barang\n",
            "4. Tampilkan data transaksi\n",
            "5. Cari barang dan transaksi\n",
            "6. Keluar\n",
            "Masukkan pilihan: 4\n",
            "| nama_pelanggan     | tanggal    | nama_beras            | ukuran   | jumlah   | keterangan   | total_harga   | keterangan_pajak            |\n",
            "|:-------------------|:-----------|:----------------------|:---------|:---------|:-------------|:--------------|:----------------------------|\n",
            "| josev              | 2222-02-01 | Pandan Zaytun         | 5        | 3        |              | 299700        | (+ Pajak 11% = Rp 29700.00) |\n",
            "| Warteg Bahari Jaya | 2026-02-01 | Rojolele Super        | 25       | 30       |              | 9e+06         | nan                         |\n",
            "| Kak Asih           | 2026-02-17 | Puregreen Beras Merah | 2        | 33       |              | 1.485e+06     | nan                         |\n",
            "| Bu Rita            | 2026-02-18 | Topi Koki Setra Ramos | 5        | 5        |              | 365000        | nan                         |\n",
            "| Pak Rudi           | 2026-02-07 | Topi Koki Setra Ramos | 5        | 1        |              | 73000         | nan                         |\n",
            "\n",
            "--- Menu ---\n",
            "1. Tambah data barang\n",
            "2. Tambah data transaksi\n",
            "3. Tampilkan data barang\n",
            "4. Tampilkan data transaksi\n",
            "5. Cari barang dan transaksi\n",
            "6. Keluar\n",
            "Masukkan pilihan: 6\n"
          ]
        }
      ]
    }
  ]
}